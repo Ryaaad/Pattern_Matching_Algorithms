{
 "cells": [
  {
   "cell_type": "code",
   "execution_count": 23,
   "metadata": {},
   "outputs": [],
   "source": [
    "def dTable(motif):\n",
    " m = len(motif)  \n",
    " d = {}\n",
    " for j in range(m + 1):  \n",
    "    d[j] = {chr(i): -1 for i in range(ord('a'), ord('z') + 1)}\n",
    "    for k in range(j):  \n",
    "        d[j][motif[k]] = k \n",
    " return d       "
   ]
  },
  {
   "cell_type": "code",
   "execution_count": 24,
   "metadata": {},
   "outputs": [],
   "source": [
    "def decalage(c,d,j):\n",
    "  if d[j][c]==-1:\n",
    "    k=j+1\n",
    "  else :\n",
    "    k=j-d[j][c]  \n",
    "  return k  "
   ]
  },
  {
   "cell_type": "code",
   "execution_count": 25,
   "metadata": {},
   "outputs": [],
   "source": [
    "def BoyerMoore(motif,text,d):\n",
    " n=len(text) ; m=len(motif); i=0 ; j=m-1;\n",
    " occ=[] # var avec les index des occurences\n",
    " nbr_comp=0 # var pour calculer nbr de comparaisons\n",
    " while(i<n-m+1):\n",
    "  k=0\n",
    "  j=m-1\n",
    "  while j>=0 :\n",
    "   nbr_comp+=1 # a chaque fois en rentre dans cette boulce il y'aura une combaraison \n",
    "   if motif[j]==text[i+j]:\n",
    "    j=j-1\n",
    "   else:\n",
    "    k=decalage(c=text[i+j],d=d,j=j)\n",
    "    break; \n",
    "  if k==0:\n",
    "   occ.append(i)\n",
    "   i=i+1\n",
    "  else:\n",
    "   i=i+k \n",
    " return occ,nbr_comp\n"
   ]
  },
  {
   "cell_type": "code",
   "execution_count": 32,
   "metadata": {},
   "outputs": [],
   "source": [
    "motif = \"ab\"\n",
    "d=dTable(motif)  # table d du motif\n",
    "text = \"abbbbbbbbbbbbbbbbbbbb\""
   ]
  },
  {
   "cell_type": "code",
   "execution_count": 33,
   "metadata": {},
   "outputs": [
    {
     "name": "stdout",
     "output_type": "stream",
     "text": [
      " occurrences : [0] \n",
      " nbr de comparaison : 40  \n"
     ]
    }
   ],
   "source": [
    "occurrences,nbr_comp = BoyerMoore(motif, text,d)\n",
    "print(f\" occurrences : {occurrences} \\n nbr de comparaison : {nbr_comp}  \")"
   ]
  }
 ],
 "metadata": {
  "kernelspec": {
   "display_name": "Python 3",
   "language": "python",
   "name": "python3"
  },
  "language_info": {
   "codemirror_mode": {
    "name": "ipython",
    "version": 3
   },
   "file_extension": ".py",
   "mimetype": "text/x-python",
   "name": "python",
   "nbconvert_exporter": "python",
   "pygments_lexer": "ipython3",
   "version": "3.0.0"
  }
 },
 "nbformat": 4,
 "nbformat_minor": 2
}
